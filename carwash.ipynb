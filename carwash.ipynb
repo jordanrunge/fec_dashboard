{
 "cells": [
  {
   "cell_type": "code",
   "execution_count": 169,
   "metadata": {},
   "outputs": [],
   "source": [
    "import numpy as np\n",
    "import pandas as pd\n",
    "import datetime"
   ]
  },
  {
   "cell_type": "markdown",
   "metadata": {},
   "source": [
    "### Import and Feature Selection"
   ]
  },
  {
   "cell_type": "code",
   "execution_count": 45,
   "metadata": {},
   "outputs": [],
   "source": [
    "df = pd.read_csv('original.csv', low_memory=False)"
   ]
  },
  {
   "cell_type": "code",
   "execution_count": 46,
   "metadata": {},
   "outputs": [
    {
     "data": {
      "text/plain": [
       "(4508586, 18)"
      ]
     },
     "execution_count": 46,
     "metadata": {},
     "output_type": "execute_result"
    }
   ],
   "source": [
    "df.shape"
   ]
  },
  {
   "cell_type": "code",
   "execution_count": 47,
   "metadata": {},
   "outputs": [],
   "source": [
    "df = df.reset_index()"
   ]
  },
  {
   "cell_type": "code",
   "execution_count": 37,
   "metadata": {
    "collapsed": true
   },
   "outputs": [
    {
     "data": {
      "text/plain": [
       "['index',\n",
       " 'cmte_id',\n",
       " 'cand_id',\n",
       " 'cand_nm',\n",
       " 'contbr_nm',\n",
       " 'contbr_city',\n",
       " 'contbr_st',\n",
       " 'contbr_zip',\n",
       " 'contbr_employer',\n",
       " 'contbr_occupation',\n",
       " 'contb_receipt_amt',\n",
       " 'contb_receipt_dt',\n",
       " 'receipt_desc',\n",
       " 'memo_cd',\n",
       " 'memo_text',\n",
       " 'form_tp',\n",
       " 'file_num',\n",
       " 'tran_id',\n",
       " 'election_tp']"
      ]
     },
     "execution_count": 37,
     "metadata": {},
     "output_type": "execute_result"
    }
   ],
   "source": [
    "df.columns.to_list()"
   ]
  },
  {
   "cell_type": "code",
   "execution_count": 48,
   "metadata": {},
   "outputs": [],
   "source": [
    "df = df.drop(['index', 'cmte_id', 'file_num', 'contb_receipt_dt', 'receipt_desc', \\\n",
    "                        'memo_cd', 'memo_text', 'form_tp', 'tran_id', 'election_tp'],axis=1)"
   ]
  },
  {
   "cell_type": "code",
   "execution_count": 49,
   "metadata": {},
   "outputs": [
    {
     "data": {
      "text/html": [
       "<div>\n",
       "<style scoped>\n",
       "    .dataframe tbody tr th:only-of-type {\n",
       "        vertical-align: middle;\n",
       "    }\n",
       "\n",
       "    .dataframe tbody tr th {\n",
       "        vertical-align: top;\n",
       "    }\n",
       "\n",
       "    .dataframe thead th {\n",
       "        text-align: right;\n",
       "    }\n",
       "</style>\n",
       "<table border=\"1\" class=\"dataframe\">\n",
       "  <thead>\n",
       "    <tr style=\"text-align: right;\">\n",
       "      <th></th>\n",
       "      <th>cand_id</th>\n",
       "      <th>cand_nm</th>\n",
       "      <th>contbr_nm</th>\n",
       "      <th>contbr_city</th>\n",
       "      <th>contbr_st</th>\n",
       "      <th>contbr_zip</th>\n",
       "      <th>contbr_employer</th>\n",
       "      <th>contbr_occupation</th>\n",
       "      <th>contb_receipt_amt</th>\n",
       "    </tr>\n",
       "  </thead>\n",
       "  <tbody>\n",
       "    <tr>\n",
       "      <td>0</td>\n",
       "      <td>Sanford, Marshall</td>\n",
       "      <td>KEITHLEY, BRAD</td>\n",
       "      <td>ANCHORAGE</td>\n",
       "      <td>AK</td>\n",
       "      <td>99501</td>\n",
       "      <td>ALASKANS FOR SUSTAINABLE BUDGETS</td>\n",
       "      <td>MANAGING DIRECTOR</td>\n",
       "      <td>1000.0</td>\n",
       "      <td>09-SEP-19</td>\n",
       "    </tr>\n",
       "    <tr>\n",
       "      <td>1</td>\n",
       "      <td>Sanford, Marshall</td>\n",
       "      <td>ANDERSON, FRANKLIN</td>\n",
       "      <td>CHICKASAW</td>\n",
       "      <td>AL</td>\n",
       "      <td>366111850</td>\n",
       "      <td>RETIRED</td>\n",
       "      <td>RETIRED</td>\n",
       "      <td>100.0</td>\n",
       "      <td>28-SEP-19</td>\n",
       "    </tr>\n",
       "    <tr>\n",
       "      <td>2</td>\n",
       "      <td>Sanford, Marshall</td>\n",
       "      <td>HIXON, SARAH</td>\n",
       "      <td>BANKS</td>\n",
       "      <td>AL</td>\n",
       "      <td>360054123</td>\n",
       "      <td>RETIRED</td>\n",
       "      <td>RETIRED</td>\n",
       "      <td>500.0</td>\n",
       "      <td>10-SEP-19</td>\n",
       "    </tr>\n",
       "    <tr>\n",
       "      <td>3</td>\n",
       "      <td>Sanford, Marshall</td>\n",
       "      <td>FOLMAR, DAMON</td>\n",
       "      <td>COLUMBIANA</td>\n",
       "      <td>AL</td>\n",
       "      <td>35051</td>\n",
       "      <td>SELF EMPLOYED</td>\n",
       "      <td>SALES/MARKETING</td>\n",
       "      <td>250.0</td>\n",
       "      <td>08-SEP-19</td>\n",
       "    </tr>\n",
       "    <tr>\n",
       "      <td>4</td>\n",
       "      <td>Sanford, Marshall</td>\n",
       "      <td>ANDERSON, FRANKLIN</td>\n",
       "      <td>CHICKASAW</td>\n",
       "      <td>AL</td>\n",
       "      <td>366111850</td>\n",
       "      <td>RETIRED</td>\n",
       "      <td>RETIRED</td>\n",
       "      <td>250.0</td>\n",
       "      <td>10-SEP-19</td>\n",
       "    </tr>\n",
       "  </tbody>\n",
       "</table>\n",
       "</div>"
      ],
      "text/plain": [
       "             cand_id             cand_nm   contbr_nm contbr_city  contbr_st  \\\n",
       "0  Sanford, Marshall      KEITHLEY, BRAD   ANCHORAGE          AK      99501   \n",
       "1  Sanford, Marshall  ANDERSON, FRANKLIN   CHICKASAW          AL  366111850   \n",
       "2  Sanford, Marshall        HIXON, SARAH       BANKS          AL  360054123   \n",
       "3  Sanford, Marshall       FOLMAR, DAMON  COLUMBIANA          AL      35051   \n",
       "4  Sanford, Marshall  ANDERSON, FRANKLIN   CHICKASAW          AL  366111850   \n",
       "\n",
       "                         contbr_zip    contbr_employer  contbr_occupation  \\\n",
       "0  ALASKANS FOR SUSTAINABLE BUDGETS  MANAGING DIRECTOR             1000.0   \n",
       "1                           RETIRED            RETIRED              100.0   \n",
       "2                           RETIRED            RETIRED              500.0   \n",
       "3                     SELF EMPLOYED    SALES/MARKETING              250.0   \n",
       "4                           RETIRED            RETIRED              250.0   \n",
       "\n",
       "  contb_receipt_amt  \n",
       "0         09-SEP-19  \n",
       "1         28-SEP-19  \n",
       "2         10-SEP-19  \n",
       "3         08-SEP-19  \n",
       "4         10-SEP-19  "
      ]
     },
     "execution_count": 49,
     "metadata": {},
     "output_type": "execute_result"
    }
   ],
   "source": [
    "df.head()"
   ]
  },
  {
   "cell_type": "code",
   "execution_count": 50,
   "metadata": {},
   "outputs": [
    {
     "data": {
      "text/plain": [
       "['cand_id',\n",
       " 'cand_nm',\n",
       " 'contbr_nm',\n",
       " 'contbr_city',\n",
       " 'contbr_st',\n",
       " 'contbr_zip',\n",
       " 'contbr_employer',\n",
       " 'contbr_occupation',\n",
       " 'contb_receipt_amt']"
      ]
     },
     "execution_count": 50,
     "metadata": {},
     "output_type": "execute_result"
    }
   ],
   "source": [
    "df.columns.to_list()"
   ]
  },
  {
   "cell_type": "code",
   "execution_count": 51,
   "metadata": {},
   "outputs": [],
   "source": [
    "df.columns=['candidate',\n",
    " 'donor',\n",
    " 'city',\n",
    " 'state',\n",
    " 'zip',\n",
    " 'employer',\n",
    " 'occupation',\n",
    " 'amount',\n",
    " 'date']"
   ]
  },
  {
   "cell_type": "code",
   "execution_count": 52,
   "metadata": {
    "collapsed": true
   },
   "outputs": [
    {
     "data": {
      "text/html": [
       "<div>\n",
       "<style scoped>\n",
       "    .dataframe tbody tr th:only-of-type {\n",
       "        vertical-align: middle;\n",
       "    }\n",
       "\n",
       "    .dataframe tbody tr th {\n",
       "        vertical-align: top;\n",
       "    }\n",
       "\n",
       "    .dataframe thead th {\n",
       "        text-align: right;\n",
       "    }\n",
       "</style>\n",
       "<table border=\"1\" class=\"dataframe\">\n",
       "  <thead>\n",
       "    <tr style=\"text-align: right;\">\n",
       "      <th></th>\n",
       "      <th>candidate</th>\n",
       "      <th>donor</th>\n",
       "      <th>city</th>\n",
       "      <th>state</th>\n",
       "      <th>zip</th>\n",
       "      <th>employer</th>\n",
       "      <th>occupation</th>\n",
       "      <th>amount</th>\n",
       "      <th>date</th>\n",
       "    </tr>\n",
       "  </thead>\n",
       "  <tbody>\n",
       "    <tr>\n",
       "      <td>0</td>\n",
       "      <td>Sanford, Marshall</td>\n",
       "      <td>KEITHLEY, BRAD</td>\n",
       "      <td>ANCHORAGE</td>\n",
       "      <td>AK</td>\n",
       "      <td>99501</td>\n",
       "      <td>ALASKANS FOR SUSTAINABLE BUDGETS</td>\n",
       "      <td>MANAGING DIRECTOR</td>\n",
       "      <td>1000.0</td>\n",
       "      <td>09-SEP-19</td>\n",
       "    </tr>\n",
       "    <tr>\n",
       "      <td>1</td>\n",
       "      <td>Sanford, Marshall</td>\n",
       "      <td>ANDERSON, FRANKLIN</td>\n",
       "      <td>CHICKASAW</td>\n",
       "      <td>AL</td>\n",
       "      <td>366111850</td>\n",
       "      <td>RETIRED</td>\n",
       "      <td>RETIRED</td>\n",
       "      <td>100.0</td>\n",
       "      <td>28-SEP-19</td>\n",
       "    </tr>\n",
       "    <tr>\n",
       "      <td>2</td>\n",
       "      <td>Sanford, Marshall</td>\n",
       "      <td>HIXON, SARAH</td>\n",
       "      <td>BANKS</td>\n",
       "      <td>AL</td>\n",
       "      <td>360054123</td>\n",
       "      <td>RETIRED</td>\n",
       "      <td>RETIRED</td>\n",
       "      <td>500.0</td>\n",
       "      <td>10-SEP-19</td>\n",
       "    </tr>\n",
       "    <tr>\n",
       "      <td>3</td>\n",
       "      <td>Sanford, Marshall</td>\n",
       "      <td>FOLMAR, DAMON</td>\n",
       "      <td>COLUMBIANA</td>\n",
       "      <td>AL</td>\n",
       "      <td>35051</td>\n",
       "      <td>SELF EMPLOYED</td>\n",
       "      <td>SALES/MARKETING</td>\n",
       "      <td>250.0</td>\n",
       "      <td>08-SEP-19</td>\n",
       "    </tr>\n",
       "    <tr>\n",
       "      <td>4</td>\n",
       "      <td>Sanford, Marshall</td>\n",
       "      <td>ANDERSON, FRANKLIN</td>\n",
       "      <td>CHICKASAW</td>\n",
       "      <td>AL</td>\n",
       "      <td>366111850</td>\n",
       "      <td>RETIRED</td>\n",
       "      <td>RETIRED</td>\n",
       "      <td>250.0</td>\n",
       "      <td>10-SEP-19</td>\n",
       "    </tr>\n",
       "  </tbody>\n",
       "</table>\n",
       "</div>"
      ],
      "text/plain": [
       "           candidate               donor        city state        zip  \\\n",
       "0  Sanford, Marshall      KEITHLEY, BRAD   ANCHORAGE    AK      99501   \n",
       "1  Sanford, Marshall  ANDERSON, FRANKLIN   CHICKASAW    AL  366111850   \n",
       "2  Sanford, Marshall        HIXON, SARAH       BANKS    AL  360054123   \n",
       "3  Sanford, Marshall       FOLMAR, DAMON  COLUMBIANA    AL      35051   \n",
       "4  Sanford, Marshall  ANDERSON, FRANKLIN   CHICKASAW    AL  366111850   \n",
       "\n",
       "                           employer         occupation  amount       date  \n",
       "0  ALASKANS FOR SUSTAINABLE BUDGETS  MANAGING DIRECTOR  1000.0  09-SEP-19  \n",
       "1                           RETIRED            RETIRED   100.0  28-SEP-19  \n",
       "2                           RETIRED            RETIRED   500.0  10-SEP-19  \n",
       "3                     SELF EMPLOYED    SALES/MARKETING   250.0  08-SEP-19  \n",
       "4                           RETIRED            RETIRED   250.0  10-SEP-19  "
      ]
     },
     "execution_count": 52,
     "metadata": {},
     "output_type": "execute_result"
    }
   ],
   "source": [
    "df.head()"
   ]
  },
  {
   "cell_type": "code",
   "execution_count": 53,
   "metadata": {
    "scrolled": true
   },
   "outputs": [],
   "source": [
    "df.candidate = df.candidate.replace('Sanders, Bernard', \"Bernie Sanders\")\n",
    "df.candidate = df.candidate.replace('Buttigieg, Pete', \"Pete Buttigieg\")"
   ]
  },
  {
   "cell_type": "code",
   "execution_count": 70,
   "metadata": {},
   "outputs": [],
   "source": [
    "df2 = df[(df.candidate  == 'Pete Buttigieg')|(df.candidate == 'Bernie Sanders')]"
   ]
  },
  {
   "cell_type": "code",
   "execution_count": 71,
   "metadata": {},
   "outputs": [
    {
     "data": {
      "text/plain": [
       "(1324765, 9)"
      ]
     },
     "execution_count": 71,
     "metadata": {},
     "output_type": "execute_result"
    }
   ],
   "source": [
    "df2.shape"
   ]
  },
  {
   "cell_type": "code",
   "execution_count": 72,
   "metadata": {},
   "outputs": [
    {
     "data": {
      "text/html": [
       "<div>\n",
       "<style scoped>\n",
       "    .dataframe tbody tr th:only-of-type {\n",
       "        vertical-align: middle;\n",
       "    }\n",
       "\n",
       "    .dataframe tbody tr th {\n",
       "        vertical-align: top;\n",
       "    }\n",
       "\n",
       "    .dataframe thead th {\n",
       "        text-align: right;\n",
       "    }\n",
       "</style>\n",
       "<table border=\"1\" class=\"dataframe\">\n",
       "  <thead>\n",
       "    <tr style=\"text-align: right;\">\n",
       "      <th></th>\n",
       "      <th>candidate</th>\n",
       "      <th>donor</th>\n",
       "      <th>city</th>\n",
       "      <th>state</th>\n",
       "      <th>zip</th>\n",
       "      <th>employer</th>\n",
       "      <th>occupation</th>\n",
       "      <th>amount</th>\n",
       "      <th>date</th>\n",
       "    </tr>\n",
       "  </thead>\n",
       "  <tbody>\n",
       "    <tr>\n",
       "      <td>2817626</td>\n",
       "      <td>Bernie Sanders</td>\n",
       "      <td>SUNDT, DICK</td>\n",
       "      <td>OWENSVILLE</td>\n",
       "      <td>AA</td>\n",
       "      <td>45160</td>\n",
       "      <td>NOT EMPLOYED</td>\n",
       "      <td>NOT EMPLOYED</td>\n",
       "      <td>100.0</td>\n",
       "      <td>27-MAR-19</td>\n",
       "    </tr>\n",
       "    <tr>\n",
       "      <td>2817627</td>\n",
       "      <td>Bernie Sanders</td>\n",
       "      <td>SMITH, BRANDON</td>\n",
       "      <td>HELSINKI</td>\n",
       "      <td>AA</td>\n",
       "      <td>00160</td>\n",
       "      <td>FAST ENTERPRISES</td>\n",
       "      <td>IMPLEMENTATION CONSULTANT</td>\n",
       "      <td>1700.0</td>\n",
       "      <td>20-FEB-19</td>\n",
       "    </tr>\n",
       "    <tr>\n",
       "      <td>2817628</td>\n",
       "      <td>Bernie Sanders</td>\n",
       "      <td>SMITH, BRANDON</td>\n",
       "      <td>HELSINKI</td>\n",
       "      <td>AA</td>\n",
       "      <td>00160</td>\n",
       "      <td>FAST ENTERPRISES</td>\n",
       "      <td>IMPLEMENTATION CONSULTANT</td>\n",
       "      <td>1000.0</td>\n",
       "      <td>20-FEB-19</td>\n",
       "    </tr>\n",
       "    <tr>\n",
       "      <td>2817629</td>\n",
       "      <td>Bernie Sanders</td>\n",
       "      <td>ZAZZARINO, LISA</td>\n",
       "      <td>APO</td>\n",
       "      <td>AE</td>\n",
       "      <td>090120074</td>\n",
       "      <td>NOT EMPLOYED</td>\n",
       "      <td>NOT EMPLOYED</td>\n",
       "      <td>25.0</td>\n",
       "      <td>15-NOV-19</td>\n",
       "    </tr>\n",
       "    <tr>\n",
       "      <td>2817630</td>\n",
       "      <td>Bernie Sanders</td>\n",
       "      <td>ZAZZARINO, LISA</td>\n",
       "      <td>APO</td>\n",
       "      <td>AE</td>\n",
       "      <td>090120074</td>\n",
       "      <td>NOT EMPLOYED</td>\n",
       "      <td>NOT EMPLOYED</td>\n",
       "      <td>25.0</td>\n",
       "      <td>15-DEC-19</td>\n",
       "    </tr>\n",
       "  </tbody>\n",
       "</table>\n",
       "</div>"
      ],
      "text/plain": [
       "              candidate            donor        city state        zip  \\\n",
       "2817626  Bernie Sanders      SUNDT, DICK  OWENSVILLE    AA      45160   \n",
       "2817627  Bernie Sanders   SMITH, BRANDON    HELSINKI    AA      00160   \n",
       "2817628  Bernie Sanders   SMITH, BRANDON    HELSINKI    AA      00160   \n",
       "2817629  Bernie Sanders  ZAZZARINO, LISA         APO    AE  090120074   \n",
       "2817630  Bernie Sanders  ZAZZARINO, LISA         APO    AE  090120074   \n",
       "\n",
       "                 employer                 occupation  amount       date  \n",
       "2817626      NOT EMPLOYED               NOT EMPLOYED   100.0  27-MAR-19  \n",
       "2817627  FAST ENTERPRISES  IMPLEMENTATION CONSULTANT  1700.0  20-FEB-19  \n",
       "2817628  FAST ENTERPRISES  IMPLEMENTATION CONSULTANT  1000.0  20-FEB-19  \n",
       "2817629      NOT EMPLOYED               NOT EMPLOYED    25.0  15-NOV-19  \n",
       "2817630      NOT EMPLOYED               NOT EMPLOYED    25.0  15-DEC-19  "
      ]
     },
     "execution_count": 72,
     "metadata": {},
     "output_type": "execute_result"
    }
   ],
   "source": [
    "df2.head()"
   ]
  },
  {
   "cell_type": "code",
   "execution_count": 74,
   "metadata": {
    "collapsed": true
   },
   "outputs": [
    {
     "name": "stderr",
     "output_type": "stream",
     "text": [
      "/opt/anaconda3/lib/python3.7/site-packages/ipykernel_launcher.py:1: SettingWithCopyWarning: \n",
      "A value is trying to be set on a copy of a slice from a DataFrame.\n",
      "Try using .loc[row_indexer,col_indexer] = value instead\n",
      "\n",
      "See the caveats in the documentation: http://pandas.pydata.org/pandas-docs/stable/user_guide/indexing.html#returning-a-view-versus-a-copy\n",
      "  \"\"\"Entry point for launching an IPython kernel.\n"
     ]
    }
   ],
   "source": [
    "df2['zip_code'] = df['zip'].astype(str).str[0:5]"
   ]
  },
  {
   "cell_type": "code",
   "execution_count": 75,
   "metadata": {
    "collapsed": true
   },
   "outputs": [
    {
     "name": "stderr",
     "output_type": "stream",
     "text": [
      "/opt/anaconda3/lib/python3.7/site-packages/ipykernel_launcher.py:1: SettingWithCopyWarning: \n",
      "A value is trying to be set on a copy of a slice from a DataFrame.\n",
      "Try using .loc[row_indexer,col_indexer] = value instead\n",
      "\n",
      "See the caveats in the documentation: http://pandas.pydata.org/pandas-docs/stable/user_guide/indexing.html#returning-a-view-versus-a-copy\n",
      "  \"\"\"Entry point for launching an IPython kernel.\n"
     ]
    }
   ],
   "source": [
    "df2['zip_code'] = df2['zip_code'].replace(',','')"
   ]
  },
  {
   "cell_type": "code",
   "execution_count": 76,
   "metadata": {},
   "outputs": [],
   "source": [
    "df2 = df2.drop(['zip','city','employer','occupation'], axis=1)"
   ]
  },
  {
   "cell_type": "code",
   "execution_count": 186,
   "metadata": {},
   "outputs": [
    {
     "data": {
      "text/plain": [
       "(1324765, 6)"
      ]
     },
     "execution_count": 186,
     "metadata": {},
     "output_type": "execute_result"
    }
   ],
   "source": [
    "df2.shape"
   ]
  },
  {
   "cell_type": "markdown",
   "metadata": {},
   "source": [
    "### Focus on Obama-Trump States"
   ]
  },
  {
   "cell_type": "code",
   "execution_count": 187,
   "metadata": {},
   "outputs": [],
   "source": [
    "mask = (df2.state == 'FL') | (df2.state == 'IA') | (df2.state == 'MI') |\\\n",
    "(df2.state == 'OH') | (df2.state == 'PA') | (df2.state == 'WI')"
   ]
  },
  {
   "cell_type": "code",
   "execution_count": 188,
   "metadata": {},
   "outputs": [],
   "source": [
    "df3 = df2.loc[mask]"
   ]
  },
  {
   "cell_type": "code",
   "execution_count": 189,
   "metadata": {},
   "outputs": [
    {
     "data": {
      "text/plain": [
       "(191235, 6)"
      ]
     },
     "execution_count": 189,
     "metadata": {},
     "output_type": "execute_result"
    }
   ],
   "source": [
    "df3.shape"
   ]
  },
  {
   "cell_type": "markdown",
   "metadata": {},
   "source": [
    "### Clean Dates"
   ]
  },
  {
   "cell_type": "code",
   "execution_count": 190,
   "metadata": {},
   "outputs": [],
   "source": [
    "date_ = df3['date'].apply(lambda x: pd.Series(str(x).split('-')))"
   ]
  },
  {
   "cell_type": "code",
   "execution_count": 191,
   "metadata": {},
   "outputs": [],
   "source": [
    "date_.columns = ['day','month','year']"
   ]
  },
  {
   "cell_type": "code",
   "execution_count": 192,
   "metadata": {},
   "outputs": [],
   "source": [
    "date_.month = date_.month.replace('JAN', '01')\n",
    "date_.month = date_.month.replace('FEB', '02')\n",
    "date_.month = date_.month.replace('MAR', '03')\n",
    "date_.month = date_.month.replace('APR', '04')\n",
    "date_.month = date_.month.replace('MAY', '05')\n",
    "date_.month = date_.month.replace('JUN', '06')\n",
    "date_.month = date_.month.replace('JUL', '07')\n",
    "date_.month = date_.month.replace('AUG', '08')\n",
    "date_.month = date_.month.replace('SEP', '09')\n",
    "date_.month = date_.month.replace('OCT', '10')\n",
    "date_.month = date_.month.replace('NOV', '11')\n",
    "date_.month = date_.month.replace('DEC', '12')"
   ]
  },
  {
   "cell_type": "code",
   "execution_count": 193,
   "metadata": {},
   "outputs": [],
   "source": [
    "date_.year = date_.year.replace('19', '2019')\n",
    "date_.year = date_.year.replace('18', '2018')\n",
    "date_.year = date_.year.replace('17', '2017')\n",
    "date_.year = date_.year.replace('16', '2016')"
   ]
  },
  {
   "cell_type": "code",
   "execution_count": 194,
   "metadata": {},
   "outputs": [],
   "source": [
    "date_2 = date_"
   ]
  },
  {
   "cell_type": "code",
   "execution_count": 195,
   "metadata": {},
   "outputs": [],
   "source": [
    "date_ = pd.DataFrame(pd.to_datetime(date_, errors='raise', dayfirst=True))"
   ]
  },
  {
   "cell_type": "code",
   "execution_count": 196,
   "metadata": {},
   "outputs": [],
   "source": [
    "date_.columns=['date_clean']"
   ]
  },
  {
   "cell_type": "code",
   "execution_count": 197,
   "metadata": {},
   "outputs": [
    {
     "data": {
      "text/html": [
       "<div>\n",
       "<style scoped>\n",
       "    .dataframe tbody tr th:only-of-type {\n",
       "        vertical-align: middle;\n",
       "    }\n",
       "\n",
       "    .dataframe tbody tr th {\n",
       "        vertical-align: top;\n",
       "    }\n",
       "\n",
       "    .dataframe thead th {\n",
       "        text-align: right;\n",
       "    }\n",
       "</style>\n",
       "<table border=\"1\" class=\"dataframe\">\n",
       "  <thead>\n",
       "    <tr style=\"text-align: right;\">\n",
       "      <th></th>\n",
       "      <th>date_clean</th>\n",
       "    </tr>\n",
       "  </thead>\n",
       "  <tbody>\n",
       "    <tr>\n",
       "      <td>3107298</td>\n",
       "      <td>2019-12-31</td>\n",
       "    </tr>\n",
       "    <tr>\n",
       "      <td>3107299</td>\n",
       "      <td>2019-12-31</td>\n",
       "    </tr>\n",
       "    <tr>\n",
       "      <td>3107300</td>\n",
       "      <td>2019-12-31</td>\n",
       "    </tr>\n",
       "    <tr>\n",
       "      <td>3107301</td>\n",
       "      <td>2019-12-31</td>\n",
       "    </tr>\n",
       "    <tr>\n",
       "      <td>3107302</td>\n",
       "      <td>2019-12-31</td>\n",
       "    </tr>\n",
       "  </tbody>\n",
       "</table>\n",
       "</div>"
      ],
      "text/plain": [
       "        date_clean\n",
       "3107298 2019-12-31\n",
       "3107299 2019-12-31\n",
       "3107300 2019-12-31\n",
       "3107301 2019-12-31\n",
       "3107302 2019-12-31"
      ]
     },
     "execution_count": 197,
     "metadata": {},
     "output_type": "execute_result"
    }
   ],
   "source": [
    "date_.head()"
   ]
  },
  {
   "cell_type": "code",
   "execution_count": 199,
   "metadata": {},
   "outputs": [],
   "source": [
    "date_2 = date_2.drop(['day', 'year'], axis=1)"
   ]
  },
  {
   "cell_type": "code",
   "execution_count": 200,
   "metadata": {},
   "outputs": [],
   "source": [
    "dates = pd.merge(date_, date_2, how='left', left_index=True, right_index=True)"
   ]
  },
  {
   "cell_type": "code",
   "execution_count": 201,
   "metadata": {},
   "outputs": [],
   "source": [
    "df4 = pd.merge(df3, dates, how='left', left_index=True, right_index=True)"
   ]
  },
  {
   "cell_type": "code",
   "execution_count": 202,
   "metadata": {},
   "outputs": [
    {
     "data": {
      "text/html": [
       "<div>\n",
       "<style scoped>\n",
       "    .dataframe tbody tr th:only-of-type {\n",
       "        vertical-align: middle;\n",
       "    }\n",
       "\n",
       "    .dataframe tbody tr th {\n",
       "        vertical-align: top;\n",
       "    }\n",
       "\n",
       "    .dataframe thead th {\n",
       "        text-align: right;\n",
       "    }\n",
       "</style>\n",
       "<table border=\"1\" class=\"dataframe\">\n",
       "  <thead>\n",
       "    <tr style=\"text-align: right;\">\n",
       "      <th></th>\n",
       "      <th>candidate</th>\n",
       "      <th>donor</th>\n",
       "      <th>state</th>\n",
       "      <th>amount</th>\n",
       "      <th>date</th>\n",
       "      <th>zip_code</th>\n",
       "      <th>date_clean</th>\n",
       "      <th>month</th>\n",
       "    </tr>\n",
       "  </thead>\n",
       "  <tbody>\n",
       "    <tr>\n",
       "      <td>3107298</td>\n",
       "      <td>Bernie Sanders</td>\n",
       "      <td>YARNELL, RICHARD</td>\n",
       "      <td>FL</td>\n",
       "      <td>1.0</td>\n",
       "      <td>31-DEC-19</td>\n",
       "      <td>34787</td>\n",
       "      <td>2019-12-31</td>\n",
       "      <td>12</td>\n",
       "    </tr>\n",
       "    <tr>\n",
       "      <td>3107299</td>\n",
       "      <td>Bernie Sanders</td>\n",
       "      <td>YARNELL, RICHARD</td>\n",
       "      <td>FL</td>\n",
       "      <td>1.0</td>\n",
       "      <td>31-DEC-19</td>\n",
       "      <td>34787</td>\n",
       "      <td>2019-12-31</td>\n",
       "      <td>12</td>\n",
       "    </tr>\n",
       "    <tr>\n",
       "      <td>3107300</td>\n",
       "      <td>Bernie Sanders</td>\n",
       "      <td>YARNELL, RICHARD</td>\n",
       "      <td>FL</td>\n",
       "      <td>1.0</td>\n",
       "      <td>31-DEC-19</td>\n",
       "      <td>34787</td>\n",
       "      <td>2019-12-31</td>\n",
       "      <td>12</td>\n",
       "    </tr>\n",
       "    <tr>\n",
       "      <td>3107301</td>\n",
       "      <td>Bernie Sanders</td>\n",
       "      <td>YARNELL, RICHARD</td>\n",
       "      <td>FL</td>\n",
       "      <td>1.0</td>\n",
       "      <td>31-DEC-19</td>\n",
       "      <td>34787</td>\n",
       "      <td>2019-12-31</td>\n",
       "      <td>12</td>\n",
       "    </tr>\n",
       "    <tr>\n",
       "      <td>3107302</td>\n",
       "      <td>Bernie Sanders</td>\n",
       "      <td>YARNELL, RICHARD</td>\n",
       "      <td>FL</td>\n",
       "      <td>1.0</td>\n",
       "      <td>31-DEC-19</td>\n",
       "      <td>34787</td>\n",
       "      <td>2019-12-31</td>\n",
       "      <td>12</td>\n",
       "    </tr>\n",
       "  </tbody>\n",
       "</table>\n",
       "</div>"
      ],
      "text/plain": [
       "              candidate             donor state  amount       date zip_code  \\\n",
       "3107298  Bernie Sanders  YARNELL, RICHARD    FL     1.0  31-DEC-19    34787   \n",
       "3107299  Bernie Sanders  YARNELL, RICHARD    FL     1.0  31-DEC-19    34787   \n",
       "3107300  Bernie Sanders  YARNELL, RICHARD    FL     1.0  31-DEC-19    34787   \n",
       "3107301  Bernie Sanders  YARNELL, RICHARD    FL     1.0  31-DEC-19    34787   \n",
       "3107302  Bernie Sanders  YARNELL, RICHARD    FL     1.0  31-DEC-19    34787   \n",
       "\n",
       "        date_clean month  \n",
       "3107298 2019-12-31    12  \n",
       "3107299 2019-12-31    12  \n",
       "3107300 2019-12-31    12  \n",
       "3107301 2019-12-31    12  \n",
       "3107302 2019-12-31    12  "
      ]
     },
     "execution_count": 202,
     "metadata": {},
     "output_type": "execute_result"
    }
   ],
   "source": [
    "df4.head()"
   ]
  },
  {
   "cell_type": "markdown",
   "metadata": {},
   "source": [
    "### Limit to 2019"
   ]
  },
  {
   "cell_type": "code",
   "execution_count": 203,
   "metadata": {},
   "outputs": [],
   "source": [
    "mask = (df4['date_clean'] > '2018/12/31')"
   ]
  },
  {
   "cell_type": "code",
   "execution_count": 204,
   "metadata": {
    "collapsed": true
   },
   "outputs": [
    {
     "data": {
      "text/html": [
       "<div>\n",
       "<style scoped>\n",
       "    .dataframe tbody tr th:only-of-type {\n",
       "        vertical-align: middle;\n",
       "    }\n",
       "\n",
       "    .dataframe tbody tr th {\n",
       "        vertical-align: top;\n",
       "    }\n",
       "\n",
       "    .dataframe thead th {\n",
       "        text-align: right;\n",
       "    }\n",
       "</style>\n",
       "<table border=\"1\" class=\"dataframe\">\n",
       "  <thead>\n",
       "    <tr style=\"text-align: right;\">\n",
       "      <th></th>\n",
       "      <th>candidate</th>\n",
       "      <th>donor</th>\n",
       "      <th>state</th>\n",
       "      <th>amount</th>\n",
       "      <th>date</th>\n",
       "      <th>zip_code</th>\n",
       "      <th>date_clean</th>\n",
       "      <th>month</th>\n",
       "    </tr>\n",
       "  </thead>\n",
       "  <tbody>\n",
       "    <tr>\n",
       "      <td>3107298</td>\n",
       "      <td>Bernie Sanders</td>\n",
       "      <td>YARNELL, RICHARD</td>\n",
       "      <td>FL</td>\n",
       "      <td>1.00</td>\n",
       "      <td>31-DEC-19</td>\n",
       "      <td>34787</td>\n",
       "      <td>2019-12-31</td>\n",
       "      <td>12</td>\n",
       "    </tr>\n",
       "    <tr>\n",
       "      <td>3107299</td>\n",
       "      <td>Bernie Sanders</td>\n",
       "      <td>YARNELL, RICHARD</td>\n",
       "      <td>FL</td>\n",
       "      <td>1.00</td>\n",
       "      <td>31-DEC-19</td>\n",
       "      <td>34787</td>\n",
       "      <td>2019-12-31</td>\n",
       "      <td>12</td>\n",
       "    </tr>\n",
       "    <tr>\n",
       "      <td>3107300</td>\n",
       "      <td>Bernie Sanders</td>\n",
       "      <td>YARNELL, RICHARD</td>\n",
       "      <td>FL</td>\n",
       "      <td>1.00</td>\n",
       "      <td>31-DEC-19</td>\n",
       "      <td>34787</td>\n",
       "      <td>2019-12-31</td>\n",
       "      <td>12</td>\n",
       "    </tr>\n",
       "    <tr>\n",
       "      <td>3107301</td>\n",
       "      <td>Bernie Sanders</td>\n",
       "      <td>YARNELL, RICHARD</td>\n",
       "      <td>FL</td>\n",
       "      <td>1.00</td>\n",
       "      <td>31-DEC-19</td>\n",
       "      <td>34787</td>\n",
       "      <td>2019-12-31</td>\n",
       "      <td>12</td>\n",
       "    </tr>\n",
       "    <tr>\n",
       "      <td>3107302</td>\n",
       "      <td>Bernie Sanders</td>\n",
       "      <td>YARNELL, RICHARD</td>\n",
       "      <td>FL</td>\n",
       "      <td>1.00</td>\n",
       "      <td>31-DEC-19</td>\n",
       "      <td>34787</td>\n",
       "      <td>2019-12-31</td>\n",
       "      <td>12</td>\n",
       "    </tr>\n",
       "    <tr>\n",
       "      <td>...</td>\n",
       "      <td>...</td>\n",
       "      <td>...</td>\n",
       "      <td>...</td>\n",
       "      <td>...</td>\n",
       "      <td>...</td>\n",
       "      <td>...</td>\n",
       "      <td>...</td>\n",
       "      <td>...</td>\n",
       "    </tr>\n",
       "    <tr>\n",
       "      <td>4140934</td>\n",
       "      <td>Pete Buttigieg</td>\n",
       "      <td>WOOD, MARGE</td>\n",
       "      <td>WI</td>\n",
       "      <td>20.20</td>\n",
       "      <td>06-OCT-19</td>\n",
       "      <td>53711</td>\n",
       "      <td>2019-10-06</td>\n",
       "      <td>10</td>\n",
       "    </tr>\n",
       "    <tr>\n",
       "      <td>4140935</td>\n",
       "      <td>Pete Buttigieg</td>\n",
       "      <td>WOOD, MARGE</td>\n",
       "      <td>WI</td>\n",
       "      <td>25.00</td>\n",
       "      <td>08-OCT-19</td>\n",
       "      <td>53711</td>\n",
       "      <td>2019-10-08</td>\n",
       "      <td>10</td>\n",
       "    </tr>\n",
       "    <tr>\n",
       "      <td>4140936</td>\n",
       "      <td>Pete Buttigieg</td>\n",
       "      <td>WOOD, MARGE</td>\n",
       "      <td>WI</td>\n",
       "      <td>77.02</td>\n",
       "      <td>12-OCT-19</td>\n",
       "      <td>53711</td>\n",
       "      <td>2019-10-12</td>\n",
       "      <td>10</td>\n",
       "    </tr>\n",
       "    <tr>\n",
       "      <td>4140937</td>\n",
       "      <td>Pete Buttigieg</td>\n",
       "      <td>WOOD, MARGE</td>\n",
       "      <td>WI</td>\n",
       "      <td>25.00</td>\n",
       "      <td>11-OCT-19</td>\n",
       "      <td>53711</td>\n",
       "      <td>2019-10-11</td>\n",
       "      <td>10</td>\n",
       "    </tr>\n",
       "    <tr>\n",
       "      <td>4140938</td>\n",
       "      <td>Pete Buttigieg</td>\n",
       "      <td>WOOD, MARGE</td>\n",
       "      <td>WI</td>\n",
       "      <td>25.00</td>\n",
       "      <td>13-OCT-19</td>\n",
       "      <td>53711</td>\n",
       "      <td>2019-10-13</td>\n",
       "      <td>10</td>\n",
       "    </tr>\n",
       "  </tbody>\n",
       "</table>\n",
       "<p>191235 rows × 8 columns</p>\n",
       "</div>"
      ],
      "text/plain": [
       "              candidate             donor state  amount       date zip_code  \\\n",
       "3107298  Bernie Sanders  YARNELL, RICHARD    FL    1.00  31-DEC-19    34787   \n",
       "3107299  Bernie Sanders  YARNELL, RICHARD    FL    1.00  31-DEC-19    34787   \n",
       "3107300  Bernie Sanders  YARNELL, RICHARD    FL    1.00  31-DEC-19    34787   \n",
       "3107301  Bernie Sanders  YARNELL, RICHARD    FL    1.00  31-DEC-19    34787   \n",
       "3107302  Bernie Sanders  YARNELL, RICHARD    FL    1.00  31-DEC-19    34787   \n",
       "...                 ...               ...   ...     ...        ...      ...   \n",
       "4140934  Pete Buttigieg       WOOD, MARGE    WI   20.20  06-OCT-19    53711   \n",
       "4140935  Pete Buttigieg       WOOD, MARGE    WI   25.00  08-OCT-19    53711   \n",
       "4140936  Pete Buttigieg       WOOD, MARGE    WI   77.02  12-OCT-19    53711   \n",
       "4140937  Pete Buttigieg       WOOD, MARGE    WI   25.00  11-OCT-19    53711   \n",
       "4140938  Pete Buttigieg       WOOD, MARGE    WI   25.00  13-OCT-19    53711   \n",
       "\n",
       "        date_clean month  \n",
       "3107298 2019-12-31    12  \n",
       "3107299 2019-12-31    12  \n",
       "3107300 2019-12-31    12  \n",
       "3107301 2019-12-31    12  \n",
       "3107302 2019-12-31    12  \n",
       "...            ...   ...  \n",
       "4140934 2019-10-06    10  \n",
       "4140935 2019-10-08    10  \n",
       "4140936 2019-10-12    10  \n",
       "4140937 2019-10-11    10  \n",
       "4140938 2019-10-13    10  \n",
       "\n",
       "[191235 rows x 8 columns]"
      ]
     },
     "execution_count": 204,
     "metadata": {},
     "output_type": "execute_result"
    }
   ],
   "source": [
    "df4.loc[mask]"
   ]
  },
  {
   "cell_type": "code",
   "execution_count": 205,
   "metadata": {},
   "outputs": [],
   "source": [
    "df4 = df4.loc[mask]"
   ]
  },
  {
   "cell_type": "code",
   "execution_count": 206,
   "metadata": {},
   "outputs": [],
   "source": [
    "df4 = df4.drop(['date'], axis=1)"
   ]
  },
  {
   "cell_type": "code",
   "execution_count": 207,
   "metadata": {},
   "outputs": [
    {
     "data": {
      "text/html": [
       "<div>\n",
       "<style scoped>\n",
       "    .dataframe tbody tr th:only-of-type {\n",
       "        vertical-align: middle;\n",
       "    }\n",
       "\n",
       "    .dataframe tbody tr th {\n",
       "        vertical-align: top;\n",
       "    }\n",
       "\n",
       "    .dataframe thead th {\n",
       "        text-align: right;\n",
       "    }\n",
       "</style>\n",
       "<table border=\"1\" class=\"dataframe\">\n",
       "  <thead>\n",
       "    <tr style=\"text-align: right;\">\n",
       "      <th></th>\n",
       "      <th>candidate</th>\n",
       "      <th>donor</th>\n",
       "      <th>state</th>\n",
       "      <th>amount</th>\n",
       "      <th>zip_code</th>\n",
       "      <th>date_clean</th>\n",
       "      <th>month</th>\n",
       "    </tr>\n",
       "  </thead>\n",
       "  <tbody>\n",
       "    <tr>\n",
       "      <td>3107298</td>\n",
       "      <td>Bernie Sanders</td>\n",
       "      <td>YARNELL, RICHARD</td>\n",
       "      <td>FL</td>\n",
       "      <td>1.0</td>\n",
       "      <td>34787</td>\n",
       "      <td>2019-12-31</td>\n",
       "      <td>12</td>\n",
       "    </tr>\n",
       "    <tr>\n",
       "      <td>3107299</td>\n",
       "      <td>Bernie Sanders</td>\n",
       "      <td>YARNELL, RICHARD</td>\n",
       "      <td>FL</td>\n",
       "      <td>1.0</td>\n",
       "      <td>34787</td>\n",
       "      <td>2019-12-31</td>\n",
       "      <td>12</td>\n",
       "    </tr>\n",
       "    <tr>\n",
       "      <td>3107300</td>\n",
       "      <td>Bernie Sanders</td>\n",
       "      <td>YARNELL, RICHARD</td>\n",
       "      <td>FL</td>\n",
       "      <td>1.0</td>\n",
       "      <td>34787</td>\n",
       "      <td>2019-12-31</td>\n",
       "      <td>12</td>\n",
       "    </tr>\n",
       "    <tr>\n",
       "      <td>3107301</td>\n",
       "      <td>Bernie Sanders</td>\n",
       "      <td>YARNELL, RICHARD</td>\n",
       "      <td>FL</td>\n",
       "      <td>1.0</td>\n",
       "      <td>34787</td>\n",
       "      <td>2019-12-31</td>\n",
       "      <td>12</td>\n",
       "    </tr>\n",
       "    <tr>\n",
       "      <td>3107302</td>\n",
       "      <td>Bernie Sanders</td>\n",
       "      <td>YARNELL, RICHARD</td>\n",
       "      <td>FL</td>\n",
       "      <td>1.0</td>\n",
       "      <td>34787</td>\n",
       "      <td>2019-12-31</td>\n",
       "      <td>12</td>\n",
       "    </tr>\n",
       "  </tbody>\n",
       "</table>\n",
       "</div>"
      ],
      "text/plain": [
       "              candidate             donor state  amount zip_code date_clean  \\\n",
       "3107298  Bernie Sanders  YARNELL, RICHARD    FL     1.0    34787 2019-12-31   \n",
       "3107299  Bernie Sanders  YARNELL, RICHARD    FL     1.0    34787 2019-12-31   \n",
       "3107300  Bernie Sanders  YARNELL, RICHARD    FL     1.0    34787 2019-12-31   \n",
       "3107301  Bernie Sanders  YARNELL, RICHARD    FL     1.0    34787 2019-12-31   \n",
       "3107302  Bernie Sanders  YARNELL, RICHARD    FL     1.0    34787 2019-12-31   \n",
       "\n",
       "        month  \n",
       "3107298    12  \n",
       "3107299    12  \n",
       "3107300    12  \n",
       "3107301    12  \n",
       "3107302    12  "
      ]
     },
     "execution_count": 207,
     "metadata": {},
     "output_type": "execute_result"
    }
   ],
   "source": [
    "df4.head()"
   ]
  },
  {
   "cell_type": "markdown",
   "metadata": {},
   "source": [
    "### Clean Donors"
   ]
  },
  {
   "cell_type": "code",
   "execution_count": 208,
   "metadata": {},
   "outputs": [],
   "source": [
    "donor_ = df4['donor'].apply(lambda x: pd.Series(str(x).split(',')))"
   ]
  },
  {
   "cell_type": "code",
   "execution_count": 209,
   "metadata": {},
   "outputs": [
    {
     "data": {
      "text/html": [
       "<div>\n",
       "<style scoped>\n",
       "    .dataframe tbody tr th:only-of-type {\n",
       "        vertical-align: middle;\n",
       "    }\n",
       "\n",
       "    .dataframe tbody tr th {\n",
       "        vertical-align: top;\n",
       "    }\n",
       "\n",
       "    .dataframe thead th {\n",
       "        text-align: right;\n",
       "    }\n",
       "</style>\n",
       "<table border=\"1\" class=\"dataframe\">\n",
       "  <thead>\n",
       "    <tr style=\"text-align: right;\">\n",
       "      <th></th>\n",
       "      <th>0</th>\n",
       "      <th>1</th>\n",
       "    </tr>\n",
       "  </thead>\n",
       "  <tbody>\n",
       "    <tr>\n",
       "      <td>3107298</td>\n",
       "      <td>YARNELL</td>\n",
       "      <td>RICHARD</td>\n",
       "    </tr>\n",
       "    <tr>\n",
       "      <td>3107299</td>\n",
       "      <td>YARNELL</td>\n",
       "      <td>RICHARD</td>\n",
       "    </tr>\n",
       "    <tr>\n",
       "      <td>3107300</td>\n",
       "      <td>YARNELL</td>\n",
       "      <td>RICHARD</td>\n",
       "    </tr>\n",
       "    <tr>\n",
       "      <td>3107301</td>\n",
       "      <td>YARNELL</td>\n",
       "      <td>RICHARD</td>\n",
       "    </tr>\n",
       "    <tr>\n",
       "      <td>3107302</td>\n",
       "      <td>YARNELL</td>\n",
       "      <td>RICHARD</td>\n",
       "    </tr>\n",
       "  </tbody>\n",
       "</table>\n",
       "</div>"
      ],
      "text/plain": [
       "               0         1\n",
       "3107298  YARNELL   RICHARD\n",
       "3107299  YARNELL   RICHARD\n",
       "3107300  YARNELL   RICHARD\n",
       "3107301  YARNELL   RICHARD\n",
       "3107302  YARNELL   RICHARD"
      ]
     },
     "execution_count": 209,
     "metadata": {},
     "output_type": "execute_result"
    }
   ],
   "source": [
    "donor_.head()"
   ]
  },
  {
   "cell_type": "code",
   "execution_count": 210,
   "metadata": {},
   "outputs": [],
   "source": [
    "donor_.columns = ['last_name', 'first_name']"
   ]
  },
  {
   "cell_type": "code",
   "execution_count": 134,
   "metadata": {},
   "outputs": [
    {
     "data": {
      "text/plain": [
       "last_name     0\n",
       "first_name    0\n",
       "dtype: int64"
      ]
     },
     "execution_count": 134,
     "metadata": {},
     "output_type": "execute_result"
    }
   ],
   "source": [
    "np.sum(donor_.isnull())"
   ]
  },
  {
   "cell_type": "code",
   "execution_count": 211,
   "metadata": {},
   "outputs": [],
   "source": [
    "donor_['first_name'] = donor_['first_name'].str.strip()\n",
    "donor_['first_name'] = donor_['first_name'].str.replace(' MS.$','')\n",
    "donor_['first_name'] = donor_['first_name'].str.replace(' MRS.$','')\n",
    "donor_['first_name'] = donor_['first_name'].str.replace(' MR.$','')\n",
    "donor_['first_name'] = donor_['first_name'].str.replace(' JR.$','')\n",
    "donor_['first_name'] = donor_['first_name'].str.replace(' SR.$','')\n",
    "donor_['first_name'] = donor_['first_name'].str.replace(' DR.$','')\n",
    "donor_['first_name'] = donor_['first_name'].str.replace('III','')\n",
    "donor_['first_name'] = donor_['first_name'].str.title()\n",
    "\n",
    "donor_['last_name'] = donor_['last_name'].str.strip()\n",
    "donor_['last_name'] = donor_['last_name'].str.replace('.','')\n",
    "donor_['last_name'] = donor_['last_name'].str.title()"
   ]
  },
  {
   "cell_type": "code",
   "execution_count": 146,
   "metadata": {
    "collapsed": true
   },
   "outputs": [
    {
     "data": {
      "text/html": [
       "<div>\n",
       "<style scoped>\n",
       "    .dataframe tbody tr th:only-of-type {\n",
       "        vertical-align: middle;\n",
       "    }\n",
       "\n",
       "    .dataframe tbody tr th {\n",
       "        vertical-align: top;\n",
       "    }\n",
       "\n",
       "    .dataframe thead th {\n",
       "        text-align: right;\n",
       "    }\n",
       "</style>\n",
       "<table border=\"1\" class=\"dataframe\">\n",
       "  <thead>\n",
       "    <tr style=\"text-align: right;\">\n",
       "      <th></th>\n",
       "      <th>last_name</th>\n",
       "      <th>first_name</th>\n",
       "    </tr>\n",
       "  </thead>\n",
       "  <tbody>\n",
       "    <tr>\n",
       "      <td>3779470</td>\n",
       "      <td>Pietrowiak</td>\n",
       "      <td>Mike</td>\n",
       "    </tr>\n",
       "    <tr>\n",
       "      <td>3132585</td>\n",
       "      <td>Moreno</td>\n",
       "      <td>Brian</td>\n",
       "    </tr>\n",
       "    <tr>\n",
       "      <td>3532023</td>\n",
       "      <td>Battisti</td>\n",
       "      <td>Sean</td>\n",
       "    </tr>\n",
       "    <tr>\n",
       "      <td>3901563</td>\n",
       "      <td>Lobovits</td>\n",
       "      <td>Michelle</td>\n",
       "    </tr>\n",
       "    <tr>\n",
       "      <td>4075276</td>\n",
       "      <td>Pankratz</td>\n",
       "      <td>David</td>\n",
       "    </tr>\n",
       "    <tr>\n",
       "      <td>3614270</td>\n",
       "      <td>Scrimenti</td>\n",
       "      <td>Michele</td>\n",
       "    </tr>\n",
       "    <tr>\n",
       "      <td>3777627</td>\n",
       "      <td>Wester</td>\n",
       "      <td>Gerald</td>\n",
       "    </tr>\n",
       "    <tr>\n",
       "      <td>4079107</td>\n",
       "      <td>Alderfer</td>\n",
       "      <td>Rick</td>\n",
       "    </tr>\n",
       "    <tr>\n",
       "      <td>4137025</td>\n",
       "      <td>Rush</td>\n",
       "      <td>Robert</td>\n",
       "    </tr>\n",
       "    <tr>\n",
       "      <td>3132848</td>\n",
       "      <td>Mendoza</td>\n",
       "      <td>Michael</td>\n",
       "    </tr>\n",
       "    <tr>\n",
       "      <td>3313771</td>\n",
       "      <td>Korinek</td>\n",
       "      <td>Jay</td>\n",
       "    </tr>\n",
       "    <tr>\n",
       "      <td>3604352</td>\n",
       "      <td>Finestone</td>\n",
       "      <td>Christopher</td>\n",
       "    </tr>\n",
       "    <tr>\n",
       "      <td>4057288</td>\n",
       "      <td>Wallace</td>\n",
       "      <td>Deborah</td>\n",
       "    </tr>\n",
       "    <tr>\n",
       "      <td>3139512</td>\n",
       "      <td>Schaller</td>\n",
       "      <td>Elizabeth</td>\n",
       "    </tr>\n",
       "    <tr>\n",
       "      <td>3138861</td>\n",
       "      <td>Ault</td>\n",
       "      <td>Lara</td>\n",
       "    </tr>\n",
       "    <tr>\n",
       "      <td>3314619</td>\n",
       "      <td>Mischler</td>\n",
       "      <td>Benjamin</td>\n",
       "    </tr>\n",
       "    <tr>\n",
       "      <td>3989399</td>\n",
       "      <td>Marrero</td>\n",
       "      <td>Alexander</td>\n",
       "    </tr>\n",
       "    <tr>\n",
       "      <td>3603632</td>\n",
       "      <td>Downing</td>\n",
       "      <td>Michele</td>\n",
       "    </tr>\n",
       "    <tr>\n",
       "      <td>3988448</td>\n",
       "      <td>Malloy</td>\n",
       "      <td>Amanda</td>\n",
       "    </tr>\n",
       "    <tr>\n",
       "      <td>3536755</td>\n",
       "      <td>Long</td>\n",
       "      <td>Tyler</td>\n",
       "    </tr>\n",
       "    <tr>\n",
       "      <td>3123806</td>\n",
       "      <td>Duffy</td>\n",
       "      <td>Patricia A</td>\n",
       "    </tr>\n",
       "    <tr>\n",
       "      <td>4077079</td>\n",
       "      <td>Herbert</td>\n",
       "      <td>Rick</td>\n",
       "    </tr>\n",
       "    <tr>\n",
       "      <td>3982898</td>\n",
       "      <td>Lewis</td>\n",
       "      <td>Brian</td>\n",
       "    </tr>\n",
       "    <tr>\n",
       "      <td>3541929</td>\n",
       "      <td>Durante</td>\n",
       "      <td>Gerald</td>\n",
       "    </tr>\n",
       "    <tr>\n",
       "      <td>3895342</td>\n",
       "      <td>Harrison</td>\n",
       "      <td>Deborah</td>\n",
       "    </tr>\n",
       "    <tr>\n",
       "      <td>3597532</td>\n",
       "      <td>Rittiger</td>\n",
       "      <td>Zachary</td>\n",
       "    </tr>\n",
       "    <tr>\n",
       "      <td>3131804</td>\n",
       "      <td>Perdomo</td>\n",
       "      <td>Justin</td>\n",
       "    </tr>\n",
       "    <tr>\n",
       "      <td>3137608</td>\n",
       "      <td>Connolly</td>\n",
       "      <td>Peggy</td>\n",
       "    </tr>\n",
       "    <tr>\n",
       "      <td>3599283</td>\n",
       "      <td>Tweed</td>\n",
       "      <td>Lindsey</td>\n",
       "    </tr>\n",
       "    <tr>\n",
       "      <td>3324525</td>\n",
       "      <td>Keller</td>\n",
       "      <td>Parvin</td>\n",
       "    </tr>\n",
       "  </tbody>\n",
       "</table>\n",
       "</div>"
      ],
      "text/plain": [
       "          last_name   first_name\n",
       "3779470  Pietrowiak         Mike\n",
       "3132585      Moreno        Brian\n",
       "3532023    Battisti         Sean\n",
       "3901563    Lobovits     Michelle\n",
       "4075276    Pankratz        David\n",
       "3614270   Scrimenti      Michele\n",
       "3777627      Wester       Gerald\n",
       "4079107    Alderfer         Rick\n",
       "4137025        Rush       Robert\n",
       "3132848     Mendoza      Michael\n",
       "3313771     Korinek          Jay\n",
       "3604352   Finestone  Christopher\n",
       "4057288     Wallace      Deborah\n",
       "3139512    Schaller    Elizabeth\n",
       "3138861        Ault         Lara\n",
       "3314619    Mischler     Benjamin\n",
       "3989399     Marrero    Alexander\n",
       "3603632     Downing      Michele\n",
       "3988448      Malloy       Amanda\n",
       "3536755        Long        Tyler\n",
       "3123806       Duffy   Patricia A\n",
       "4077079     Herbert         Rick\n",
       "3982898       Lewis        Brian\n",
       "3541929     Durante       Gerald\n",
       "3895342    Harrison      Deborah\n",
       "3597532    Rittiger      Zachary\n",
       "3131804     Perdomo       Justin\n",
       "3137608    Connolly        Peggy\n",
       "3599283       Tweed      Lindsey\n",
       "3324525      Keller       Parvin"
      ]
     },
     "execution_count": 146,
     "metadata": {},
     "output_type": "execute_result"
    }
   ],
   "source": [
    "donor_.sample(30)"
   ]
  },
  {
   "cell_type": "code",
   "execution_count": 147,
   "metadata": {},
   "outputs": [
    {
     "data": {
      "text/html": [
       "<div>\n",
       "<style scoped>\n",
       "    .dataframe tbody tr th:only-of-type {\n",
       "        vertical-align: middle;\n",
       "    }\n",
       "\n",
       "    .dataframe tbody tr th {\n",
       "        vertical-align: top;\n",
       "    }\n",
       "\n",
       "    .dataframe thead th {\n",
       "        text-align: right;\n",
       "    }\n",
       "</style>\n",
       "<table border=\"1\" class=\"dataframe\">\n",
       "  <thead>\n",
       "    <tr style=\"text-align: right;\">\n",
       "      <th></th>\n",
       "      <th>last_name</th>\n",
       "      <th>first_name</th>\n",
       "    </tr>\n",
       "  </thead>\n",
       "  <tbody>\n",
       "    <tr>\n",
       "      <td>3107298</td>\n",
       "      <td>Yarnell</td>\n",
       "      <td>Richard</td>\n",
       "    </tr>\n",
       "    <tr>\n",
       "      <td>3107299</td>\n",
       "      <td>Yarnell</td>\n",
       "      <td>Richard</td>\n",
       "    </tr>\n",
       "    <tr>\n",
       "      <td>3107300</td>\n",
       "      <td>Yarnell</td>\n",
       "      <td>Richard</td>\n",
       "    </tr>\n",
       "    <tr>\n",
       "      <td>3107301</td>\n",
       "      <td>Yarnell</td>\n",
       "      <td>Richard</td>\n",
       "    </tr>\n",
       "    <tr>\n",
       "      <td>3107302</td>\n",
       "      <td>Yarnell</td>\n",
       "      <td>Richard</td>\n",
       "    </tr>\n",
       "  </tbody>\n",
       "</table>\n",
       "</div>"
      ],
      "text/plain": [
       "        last_name first_name\n",
       "3107298   Yarnell    Richard\n",
       "3107299   Yarnell    Richard\n",
       "3107300   Yarnell    Richard\n",
       "3107301   Yarnell    Richard\n",
       "3107302   Yarnell    Richard"
      ]
     },
     "execution_count": 147,
     "metadata": {},
     "output_type": "execute_result"
    }
   ],
   "source": [
    "donor_.head()"
   ]
  },
  {
   "cell_type": "code",
   "execution_count": 212,
   "metadata": {},
   "outputs": [],
   "source": [
    "donor_['full_name'] = donor_['first_name'] + ' ' + donor_['last_name']"
   ]
  },
  {
   "cell_type": "code",
   "execution_count": 213,
   "metadata": {},
   "outputs": [],
   "source": [
    "donor_ = donor_.drop(['last_name', 'first_name'], axis=1)"
   ]
  },
  {
   "cell_type": "code",
   "execution_count": 214,
   "metadata": {},
   "outputs": [
    {
     "data": {
      "text/html": [
       "<div>\n",
       "<style scoped>\n",
       "    .dataframe tbody tr th:only-of-type {\n",
       "        vertical-align: middle;\n",
       "    }\n",
       "\n",
       "    .dataframe tbody tr th {\n",
       "        vertical-align: top;\n",
       "    }\n",
       "\n",
       "    .dataframe thead th {\n",
       "        text-align: right;\n",
       "    }\n",
       "</style>\n",
       "<table border=\"1\" class=\"dataframe\">\n",
       "  <thead>\n",
       "    <tr style=\"text-align: right;\">\n",
       "      <th></th>\n",
       "      <th>full_name</th>\n",
       "    </tr>\n",
       "  </thead>\n",
       "  <tbody>\n",
       "    <tr>\n",
       "      <td>3107298</td>\n",
       "      <td>Richard Yarnell</td>\n",
       "    </tr>\n",
       "    <tr>\n",
       "      <td>3107299</td>\n",
       "      <td>Richard Yarnell</td>\n",
       "    </tr>\n",
       "    <tr>\n",
       "      <td>3107300</td>\n",
       "      <td>Richard Yarnell</td>\n",
       "    </tr>\n",
       "    <tr>\n",
       "      <td>3107301</td>\n",
       "      <td>Richard Yarnell</td>\n",
       "    </tr>\n",
       "    <tr>\n",
       "      <td>3107302</td>\n",
       "      <td>Richard Yarnell</td>\n",
       "    </tr>\n",
       "  </tbody>\n",
       "</table>\n",
       "</div>"
      ],
      "text/plain": [
       "               full_name\n",
       "3107298  Richard Yarnell\n",
       "3107299  Richard Yarnell\n",
       "3107300  Richard Yarnell\n",
       "3107301  Richard Yarnell\n",
       "3107302  Richard Yarnell"
      ]
     },
     "execution_count": 214,
     "metadata": {},
     "output_type": "execute_result"
    }
   ],
   "source": [
    "donor_.head()"
   ]
  },
  {
   "cell_type": "code",
   "execution_count": 215,
   "metadata": {},
   "outputs": [],
   "source": [
    "df5 = pd.merge(df4, donor_, how='left', left_index=True, right_index=True)"
   ]
  },
  {
   "cell_type": "code",
   "execution_count": 216,
   "metadata": {},
   "outputs": [],
   "source": [
    "df5 = df5.drop(['donor'], axis=1)"
   ]
  },
  {
   "cell_type": "code",
   "execution_count": 217,
   "metadata": {},
   "outputs": [
    {
     "data": {
      "text/plain": [
       "['candidate',\n",
       " 'state',\n",
       " 'amount',\n",
       " 'zip_code',\n",
       " 'date_clean',\n",
       " 'month',\n",
       " 'full_name']"
      ]
     },
     "execution_count": 217,
     "metadata": {},
     "output_type": "execute_result"
    }
   ],
   "source": [
    "df5.columns.to_list()"
   ]
  },
  {
   "cell_type": "code",
   "execution_count": 218,
   "metadata": {},
   "outputs": [],
   "source": [
    "df5.columns = [['candidate', 'state', 'amount', 'zip', 'date', 'month', 'donor']]"
   ]
  },
  {
   "cell_type": "code",
   "execution_count": 219,
   "metadata": {},
   "outputs": [
    {
     "data": {
      "text/html": [
       "<div>\n",
       "<style scoped>\n",
       "    .dataframe tbody tr th:only-of-type {\n",
       "        vertical-align: middle;\n",
       "    }\n",
       "\n",
       "    .dataframe tbody tr th {\n",
       "        vertical-align: top;\n",
       "    }\n",
       "\n",
       "    .dataframe thead tr th {\n",
       "        text-align: left;\n",
       "    }\n",
       "</style>\n",
       "<table border=\"1\" class=\"dataframe\">\n",
       "  <thead>\n",
       "    <tr>\n",
       "      <th></th>\n",
       "      <th>candidate</th>\n",
       "      <th>state</th>\n",
       "      <th>amount</th>\n",
       "      <th>zip</th>\n",
       "      <th>date</th>\n",
       "      <th>month</th>\n",
       "      <th>donor</th>\n",
       "    </tr>\n",
       "  </thead>\n",
       "  <tbody>\n",
       "    <tr>\n",
       "      <td>3107298</td>\n",
       "      <td>Bernie Sanders</td>\n",
       "      <td>FL</td>\n",
       "      <td>1.0</td>\n",
       "      <td>34787</td>\n",
       "      <td>2019-12-31</td>\n",
       "      <td>12</td>\n",
       "      <td>Richard Yarnell</td>\n",
       "    </tr>\n",
       "    <tr>\n",
       "      <td>3107299</td>\n",
       "      <td>Bernie Sanders</td>\n",
       "      <td>FL</td>\n",
       "      <td>1.0</td>\n",
       "      <td>34787</td>\n",
       "      <td>2019-12-31</td>\n",
       "      <td>12</td>\n",
       "      <td>Richard Yarnell</td>\n",
       "    </tr>\n",
       "    <tr>\n",
       "      <td>3107300</td>\n",
       "      <td>Bernie Sanders</td>\n",
       "      <td>FL</td>\n",
       "      <td>1.0</td>\n",
       "      <td>34787</td>\n",
       "      <td>2019-12-31</td>\n",
       "      <td>12</td>\n",
       "      <td>Richard Yarnell</td>\n",
       "    </tr>\n",
       "    <tr>\n",
       "      <td>3107301</td>\n",
       "      <td>Bernie Sanders</td>\n",
       "      <td>FL</td>\n",
       "      <td>1.0</td>\n",
       "      <td>34787</td>\n",
       "      <td>2019-12-31</td>\n",
       "      <td>12</td>\n",
       "      <td>Richard Yarnell</td>\n",
       "    </tr>\n",
       "    <tr>\n",
       "      <td>3107302</td>\n",
       "      <td>Bernie Sanders</td>\n",
       "      <td>FL</td>\n",
       "      <td>1.0</td>\n",
       "      <td>34787</td>\n",
       "      <td>2019-12-31</td>\n",
       "      <td>12</td>\n",
       "      <td>Richard Yarnell</td>\n",
       "    </tr>\n",
       "  </tbody>\n",
       "</table>\n",
       "</div>"
      ],
      "text/plain": [
       "              candidate state amount    zip       date month            donor\n",
       "3107298  Bernie Sanders    FL    1.0  34787 2019-12-31    12  Richard Yarnell\n",
       "3107299  Bernie Sanders    FL    1.0  34787 2019-12-31    12  Richard Yarnell\n",
       "3107300  Bernie Sanders    FL    1.0  34787 2019-12-31    12  Richard Yarnell\n",
       "3107301  Bernie Sanders    FL    1.0  34787 2019-12-31    12  Richard Yarnell\n",
       "3107302  Bernie Sanders    FL    1.0  34787 2019-12-31    12  Richard Yarnell"
      ]
     },
     "execution_count": 219,
     "metadata": {},
     "output_type": "execute_result"
    }
   ],
   "source": [
    "df5.head()"
   ]
  },
  {
   "cell_type": "markdown",
   "metadata": {},
   "source": [
    "### Save to csv"
   ]
  },
  {
   "cell_type": "code",
   "execution_count": 228,
   "metadata": {},
   "outputs": [],
   "source": [
    "df5.to_csv('pete_bernie.csv')"
   ]
  }
 ],
 "metadata": {
  "kernelspec": {
   "display_name": "Python 3",
   "language": "python",
   "name": "python3"
  },
  "language_info": {
   "codemirror_mode": {
    "name": "ipython",
    "version": 3
   },
   "file_extension": ".py",
   "mimetype": "text/x-python",
   "name": "python",
   "nbconvert_exporter": "python",
   "pygments_lexer": "ipython3",
   "version": "3.7.4"
  }
 },
 "nbformat": 4,
 "nbformat_minor": 2
}
